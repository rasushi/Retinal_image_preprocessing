{
 "cells": [
  {
   "cell_type": "code",
   "execution_count": 14,
   "id": "6f557373-9c27-45d0-901c-aa2f143ccc29",
   "metadata": {},
   "outputs": [],
   "source": [
    "import os\n",
    "import cv2\n",
    "import numpy as np\n",
    "from PIL import Image"
   ]
  },
  {
   "cell_type": "code",
   "execution_count": 3,
   "id": "a4c58988-158e-47f3-b52e-84cf210115d4",
   "metadata": {},
   "outputs": [
    {
     "name": "stdout",
     "output_type": "stream",
     "text": [
      "hub://activeloop/drive-train loaded successfully.\n",
      "This dataset can be visualized in Jupyter Notebook by ds.visualize() or at https://app.activeloop.ai/activeloop/drive-train\n",
      "hub://activeloop/drive-test loaded successfully.\n",
      "This dataset can be visualized in Jupyter Notebook by ds.visualize() or at https://app.activeloop.ai/activeloop/drive-test\n"
     ]
    }
   ],
   "source": [
    "def read_image(image_path):\n",
    "    #Read image using PIL and convert to NumPy array\n",
    "    image = Image.open(image_path)\n",
    "    return np.array(image)\n",
    "\n",
    "def resize_image(image, size=(512, 512)):\n",
    "    #Resize image to a uniform size\n",
    "    return cv2.resize(image, size)\n",
    "\n",
    "def to_grayscale(image):\n",
    "    #Convert RGB image to grayscale\n",
    "    if len(image.shape) == 3:\n",
    "        return cv2.cvtColor(image, cv2.COLOR_RGB2GRAY)\n",
    "    return image\n",
    "\n",
    "def apply_clahe(image):\n",
    "    #Apply CLAHE for contrast enhancement\n",
    "    clahe = cv2.createCLAHE(clipLimit=2.0, tileGridSize=(8, 8))\n",
    "    return clahe.apply(image)\n",
    "\n",
    "def apply_roi_mask(image, roi_mask):\n",
    "    #Apply circular ROI mask to focus on the retina region only\n",
    "    return cv2.bitwise_and(image, image, mask=roi_mask)\n",
    "\n",
    "def normalize_image(image):\n",
    "    #Normalize pixel values to [0, 1]\n",
    "    return image.astype(np.float32) / 255.0\n",
    "\n",
    "def binarize_mask(mask):\n",
    "    #Convert grayscale mask to binary mask\n",
    "    return (mask > 0).astype(np.uint8)\n",
    "\n",
    "def preprocess_drive_image(image_path, roi_mask_path=None, size=(512, 512)):\n",
    "    image = read_image(image_path)\n",
    "    image = resize_image(image, size)\n",
    "    image = to_grayscale(image)\n",
    "    image = apply_clahe(image)\n",
    "\n",
    "    if roi_mask_path:\n",
    "        roi_mask = read_image(roi_mask_path)\n",
    "        roi_mask = resize_image(roi_mask, size)\n",
    "        image = apply_roi_mask(image, roi_mask)\n",
    "\n",
    "    image = normalize_image(image)\n",
    "    return image  \n",
    "def preprocess_drive_mask(mask_path, size=(512, 512)):\n",
    "    mask = read_image(mask_path)\n",
    "    mask = resize_image(mask, size)\n",
    "    mask = binarize_mask(mask)\n",
    "    return mask  # shape: (H, W) or (1, H, W) for DL input"
   ]
  },
  {
   "cell_type": "code",
   "execution_count": 13,
   "id": "439d10ed-75c0-45af-81fa-259754ac8d9e",
   "metadata": {},
   "outputs": [
    {
     "name": "stdout",
     "output_type": "stream",
     "text": [
      "{'rgb_images': Tensor(key='rgb_images'), 'manual_masks/mask': Tensor(key='manual_masks/mask'), 'masks/mask': Tensor(key='masks/mask')}\n",
      "{'rgb_images': Tensor(key='rgb_images'), 'masks': Tensor(key='masks')}\n"
     ]
    }
   ],
   "source": [
    "print(train_ds.tensors)\n",
    "print(test_ds.tensors)\n"
   ]
  },
  {
   "cell_type": "code",
   "execution_count": 12,
   "id": "fae62a14-6464-4b1d-a59b-9a097c32a95d",
   "metadata": {},
   "outputs": [],
   "source": [
    "def show_sample(dataset, index=0, title=\"Sample\"):\n",
    "    img = dataset['rgb_images'][index].numpy()\n",
    "    mask = dataset['manual_masks/mask'][index].numpy()\n",
    "\n",
    "    plt.figure(figsize=(10, 4))\n",
    "    plt.subplot(1, 2, 1)\n",
    "    plt.title(f\"{title} Image\")\n",
    "    plt.imshow(img)\n",
    "    plt.axis('off')\n",
    "\n",
    "    plt.subplot(1, 2, 2)\n",
    "    plt.title(f\"{title} Mask\")\n",
    "    plt.imshow(mask, cmap='gray')\n",
    "    plt.axis('off')\n",
    "\n",
    "    plt.tight_layout()\n",
    "    plt.show()\n",
    "\n"
   ]
  },
  {
   "cell_type": "code",
   "execution_count": null,
   "id": "b236200c-fb4b-4f47-9132-be6f0f6eecf0",
   "metadata": {},
   "outputs": [],
   "source": [
    "# Read all images path\n",
    "image_paths = get_image_paths(TEST_IMG_BASE_PATHS)\n",
    "\n",
    "# Read image using PIL and convert to numpy\n",
    "test_images = []\n",
    "for path in image_paths:\n",
    "    image = Image.open(path)\n",
    "    image = np.array(image)\n",
    "    test_images.append(image)\n",
    "    \n",
    "# Plot images\n",
    "plot_image_grid(test_images)"
   ]
  },
  {
   "cell_type": "code",
   "execution_count": null,
   "id": "638c3281-b651-4e2b-9592-40c8eb98e681",
   "metadata": {},
   "outputs": [],
   "source": [
    "# Assuming test_images is a list of NumPy arrays (grayscale images)\n",
    "segmented_images = []\n",
    "\n",
    "for image in test_images:\n",
    "    # Step 1: Convert to grayscale (if the image is not already grayscale)\n",
    "    if len(image.shape) == 3:  # Check if the image has multiple channels (RGB)\n",
    "        image = cv2.cvtColor(image, cv2.COLOR_BGR2GRAY)\n",
    "\n",
    "    # Step 2: Preprocessing - Contrast enhancement\n",
    "    clahe = cv2.createCLAHE(clipLimit=2.0, tileGridSize=(8, 8))\n",
    "    enhanced_image = clahe.apply(image)\n",
    "    # Step 3: Morphological operations (e.g., opening)\n",
    "    selem = disk(6)  # Adjust disk size based on vessel scale\n",
    "    blackhat_image = black_tophat(enhanced_image, selem)\n",
    "    \n",
    "    # Step 4: Thresholding to segment vessels\n",
    "    # Otsu's thresholding\n",
    "    _, binary_image = cv2.threshold(blackhat_image, 0, 255, cv2.THRESH_BINARY + cv2.THRESH_OTSU)\n",
    "\n",
    "    # Step5: Store the segmented image\n",
    "    segmented_images.append(binary_image)"
   ]
  },
  {
   "cell_type": "code",
   "execution_count": null,
   "id": "748f7905-7e04-46b3-8257-d72626202276",
   "metadata": {},
   "outputs": [],
   "source": [
    "# Plot images\n",
    "plot_image_grid(segmented_images)"
   ]
  },
  {
   "cell_type": "code",
   "execution_count": null,
   "id": "ad453930-8220-462e-95ef-7acb1501adfa",
   "metadata": {},
   "outputs": [],
   "source": []
  }
 ],
 "metadata": {
  "kernelspec": {
   "display_name": "Python 3 (ipykernel)",
   "language": "python",
   "name": "python3"
  },
  "language_info": {
   "codemirror_mode": {
    "name": "ipython",
    "version": 3
   },
   "file_extension": ".py",
   "mimetype": "text/x-python",
   "name": "python",
   "nbconvert_exporter": "python",
   "pygments_lexer": "ipython3",
   "version": "3.13.0"
  }
 },
 "nbformat": 4,
 "nbformat_minor": 5
}
